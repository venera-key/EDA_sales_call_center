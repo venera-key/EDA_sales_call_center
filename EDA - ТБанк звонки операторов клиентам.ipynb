{
 "cells": [
  {
   "cell_type": "markdown",
   "metadata": {},
   "source": [
    "# Общие данные"
   ]
  },
  {
   "cell_type": "markdown",
   "metadata": {},
   "source": [
    "Импорт и чтение файла"
   ]
  },
  {
   "cell_type": "code",
   "execution_count": 145,
   "metadata": {},
   "outputs": [],
   "source": [
    "import pandas as pd\n",
    "import seaborn as sns\n",
    "import matplotlib.pyplot as plt"
   ]
  },
  {
   "cell_type": "code",
   "execution_count": 146,
   "metadata": {},
   "outputs": [],
   "source": [
    "df = pd.read_csv('sale_tasks_dataset.csv')"
   ]
  },
  {
   "cell_type": "markdown",
   "metadata": {},
   "source": [
    "Вывод  датасета"
   ]
  },
  {
   "cell_type": "code",
   "execution_count": 147,
   "metadata": {},
   "outputs": [
    {
     "data": {
      "text/html": [
       "<div>\n",
       "<style scoped>\n",
       "    .dataframe tbody tr th:only-of-type {\n",
       "        vertical-align: middle;\n",
       "    }\n",
       "\n",
       "    .dataframe tbody tr th {\n",
       "        vertical-align: top;\n",
       "    }\n",
       "\n",
       "    .dataframe thead th {\n",
       "        text-align: right;\n",
       "    }\n",
       "</style>\n",
       "<table border=\"1\" class=\"dataframe\">\n",
       "  <thead>\n",
       "    <tr style=\"text-align: right;\">\n",
       "      <th></th>\n",
       "      <th>customer_id</th>\n",
       "      <th>age</th>\n",
       "      <th>gender_cd</th>\n",
       "      <th>region_size</th>\n",
       "      <th>foreign_flg</th>\n",
       "      <th>entrepreneur_flg</th>\n",
       "      <th>auto_flg</th>\n",
       "      <th>traveler_flg</th>\n",
       "      <th>partnership_flg</th>\n",
       "      <th>child_amt</th>\n",
       "      <th>...</th>\n",
       "      <th>state_talk_time_sec</th>\n",
       "      <th>wo_hit_status_result_desc</th>\n",
       "      <th>wo_hit_status_reason_desc</th>\n",
       "      <th>employee_id</th>\n",
       "      <th>emp_age</th>\n",
       "      <th>emp_gender_cd</th>\n",
       "      <th>emp_children_cnt</th>\n",
       "      <th>emp_work_months_cnt</th>\n",
       "      <th>emp_citizenship_country_cd</th>\n",
       "      <th>emp_marital_status_cd</th>\n",
       "    </tr>\n",
       "  </thead>\n",
       "  <tbody>\n",
       "    <tr>\n",
       "      <th>0</th>\n",
       "      <td>422206773</td>\n",
       "      <td>58.0</td>\n",
       "      <td>F</td>\n",
       "      <td>NaN</td>\n",
       "      <td>NaN</td>\n",
       "      <td>NaN</td>\n",
       "      <td>NaN</td>\n",
       "      <td>NaN</td>\n",
       "      <td>NaN</td>\n",
       "      <td>NaN</td>\n",
       "      <td>...</td>\n",
       "      <td>67.0</td>\n",
       "      <td>Дозвон, Отказ</td>\n",
       "      <td>Перезвонит самостоятельно позднее</td>\n",
       "      <td>142052.0</td>\n",
       "      <td>30</td>\n",
       "      <td>W</td>\n",
       "      <td>NaN</td>\n",
       "      <td>1</td>\n",
       "      <td>NaN</td>\n",
       "      <td>NaN</td>\n",
       "    </tr>\n",
       "    <tr>\n",
       "      <th>1</th>\n",
       "      <td>348648289</td>\n",
       "      <td>44.0</td>\n",
       "      <td>M</td>\n",
       "      <td>rural</td>\n",
       "      <td>0.0</td>\n",
       "      <td>0.0</td>\n",
       "      <td>0.0</td>\n",
       "      <td>0.0</td>\n",
       "      <td>1.0</td>\n",
       "      <td>1.0</td>\n",
       "      <td>...</td>\n",
       "      <td>151.0</td>\n",
       "      <td>Дозвон, Отказ</td>\n",
       "      <td>Другое</td>\n",
       "      <td>7004.0</td>\n",
       "      <td>36</td>\n",
       "      <td>W</td>\n",
       "      <td>NaN</td>\n",
       "      <td>2</td>\n",
       "      <td>RUS</td>\n",
       "      <td>NaN</td>\n",
       "    </tr>\n",
       "    <tr>\n",
       "      <th>2</th>\n",
       "      <td>345496995</td>\n",
       "      <td>23.0</td>\n",
       "      <td>F</td>\n",
       "      <td>town</td>\n",
       "      <td>0.0</td>\n",
       "      <td>0.0</td>\n",
       "      <td>1.0</td>\n",
       "      <td>0.0</td>\n",
       "      <td>1.0</td>\n",
       "      <td>0.0</td>\n",
       "      <td>...</td>\n",
       "      <td>68.0</td>\n",
       "      <td>Дозвон, Успешно</td>\n",
       "      <td>Назначена встреча</td>\n",
       "      <td>80760.0</td>\n",
       "      <td>52</td>\n",
       "      <td>W</td>\n",
       "      <td>NaN</td>\n",
       "      <td>6</td>\n",
       "      <td>NaN</td>\n",
       "      <td>NaN</td>\n",
       "    </tr>\n",
       "    <tr>\n",
       "      <th>3</th>\n",
       "      <td>182783192</td>\n",
       "      <td>34.0</td>\n",
       "      <td>M</td>\n",
       "      <td>town</td>\n",
       "      <td>0.0</td>\n",
       "      <td>0.0</td>\n",
       "      <td>0.0</td>\n",
       "      <td>0.0</td>\n",
       "      <td>0.0</td>\n",
       "      <td>0.0</td>\n",
       "      <td>...</td>\n",
       "      <td>738.0</td>\n",
       "      <td>Дозвон, Успешно</td>\n",
       "      <td>Обещал утилизироваться самостоятельно</td>\n",
       "      <td>158672.0</td>\n",
       "      <td>22</td>\n",
       "      <td>NaN</td>\n",
       "      <td>NaN</td>\n",
       "      <td>8</td>\n",
       "      <td>NaN</td>\n",
       "      <td>NaN</td>\n",
       "    </tr>\n",
       "    <tr>\n",
       "      <th>4</th>\n",
       "      <td>138498254</td>\n",
       "      <td>30.0</td>\n",
       "      <td>M</td>\n",
       "      <td>NaN</td>\n",
       "      <td>NaN</td>\n",
       "      <td>NaN</td>\n",
       "      <td>NaN</td>\n",
       "      <td>NaN</td>\n",
       "      <td>NaN</td>\n",
       "      <td>NaN</td>\n",
       "      <td>...</td>\n",
       "      <td>39.0</td>\n",
       "      <td>Дозвон, Отказ</td>\n",
       "      <td>Переведен в банк</td>\n",
       "      <td>14462.0</td>\n",
       "      <td>51</td>\n",
       "      <td>W</td>\n",
       "      <td>NaN</td>\n",
       "      <td>7</td>\n",
       "      <td>NaN</td>\n",
       "      <td>NaN</td>\n",
       "    </tr>\n",
       "  </tbody>\n",
       "</table>\n",
       "<p>5 rows × 28 columns</p>\n",
       "</div>"
      ],
      "text/plain": [
       "   customer_id   age gender_cd region_size  foreign_flg  entrepreneur_flg  \\\n",
       "0    422206773  58.0         F         NaN          NaN               NaN   \n",
       "1    348648289  44.0         M       rural          0.0               0.0   \n",
       "2    345496995  23.0         F        town          0.0               0.0   \n",
       "3    182783192  34.0         M        town          0.0               0.0   \n",
       "4    138498254  30.0         M         NaN          NaN               NaN   \n",
       "\n",
       "   auto_flg  traveler_flg  partnership_flg  child_amt  ...  \\\n",
       "0       NaN           NaN              NaN        NaN  ...   \n",
       "1       0.0           0.0              1.0        1.0  ...   \n",
       "2       1.0           0.0              1.0        0.0  ...   \n",
       "3       0.0           0.0              0.0        0.0  ...   \n",
       "4       NaN           NaN              NaN        NaN  ...   \n",
       "\n",
       "  state_talk_time_sec wo_hit_status_result_desc  \\\n",
       "0                67.0             Дозвон, Отказ   \n",
       "1               151.0             Дозвон, Отказ   \n",
       "2                68.0           Дозвон, Успешно   \n",
       "3               738.0           Дозвон, Успешно   \n",
       "4                39.0             Дозвон, Отказ   \n",
       "\n",
       "               wo_hit_status_reason_desc  employee_id  emp_age emp_gender_cd  \\\n",
       "0      Перезвонит самостоятельно позднее     142052.0       30             W   \n",
       "1                                 Другое       7004.0       36             W   \n",
       "2                      Назначена встреча      80760.0       52             W   \n",
       "3  Обещал утилизироваться самостоятельно     158672.0       22           NaN   \n",
       "4                       Переведен в банк      14462.0       51             W   \n",
       "\n",
       "  emp_children_cnt emp_work_months_cnt  emp_citizenship_country_cd  \\\n",
       "0              NaN                   1                         NaN   \n",
       "1              NaN                   2                         RUS   \n",
       "2              NaN                   6                         NaN   \n",
       "3              NaN                   8                         NaN   \n",
       "4              NaN                   7                         NaN   \n",
       "\n",
       "  emp_marital_status_cd  \n",
       "0                   NaN  \n",
       "1                   NaN  \n",
       "2                   NaN  \n",
       "3                   NaN  \n",
       "4                   NaN  \n",
       "\n",
       "[5 rows x 28 columns]"
      ]
     },
     "execution_count": 147,
     "metadata": {},
     "output_type": "execute_result"
    }
   ],
   "source": [
    "df.head()"
   ]
  },
  {
   "cell_type": "markdown",
   "metadata": {},
   "source": [
    "Размер df"
   ]
  },
  {
   "cell_type": "markdown",
   "metadata": {},
   "source": [
    "Тип данных (надо иметь ввиду при расчетах)"
   ]
  },
  {
   "cell_type": "code",
   "execution_count": 148,
   "metadata": {},
   "outputs": [
    {
     "data": {
      "text/plain": [
       "customer_id                     int64\n",
       "age                            object\n",
       "gender_cd                      object\n",
       "region_size                    object\n",
       "foreign_flg                   float64\n",
       "entrepreneur_flg              float64\n",
       "auto_flg                      float64\n",
       "traveler_flg                  float64\n",
       "partnership_flg               float64\n",
       "child_amt                     float64\n",
       "realty_type                    object\n",
       "segment_cd                     object\n",
       "bundle_nm                      object\n",
       "confirmed_income              float64\n",
       "predicted_income              float64\n",
       "product_cd                     object\n",
       "functional_cd                  object\n",
       "finish_dttm                    object\n",
       "state_talk_time_sec           float64\n",
       "wo_hit_status_result_desc      object\n",
       "wo_hit_status_reason_desc      object\n",
       "employee_id                   float64\n",
       "emp_age                         int64\n",
       "emp_gender_cd                  object\n",
       "emp_children_cnt              float64\n",
       "emp_work_months_cnt             int64\n",
       "emp_citizenship_country_cd     object\n",
       "emp_marital_status_cd          object\n",
       "dtype: object"
      ]
     },
     "execution_count": 148,
     "metadata": {},
     "output_type": "execute_result"
    }
   ],
   "source": [
    "df.dtypes"
   ]
  },
  {
   "cell_type": "markdown",
   "metadata": {},
   "source": [
    "Количеество пропусков (NULL)"
   ]
  },
  {
   "cell_type": "code",
   "execution_count": 149,
   "metadata": {},
   "outputs": [
    {
     "data": {
      "text/plain": [
       "customer_id                       0\n",
       "age                             182\n",
       "gender_cd                       258\n",
       "region_size                    7289\n",
       "foreign_flg                    7289\n",
       "entrepreneur_flg               7289\n",
       "auto_flg                       7289\n",
       "traveler_flg                   7289\n",
       "partnership_flg                7289\n",
       "child_amt                      7289\n",
       "realty_type                    7289\n",
       "segment_cd                     7289\n",
       "bundle_nm                     13988\n",
       "confirmed_income              17284\n",
       "predicted_income              14604\n",
       "product_cd                        0\n",
       "functional_cd                     0\n",
       "finish_dttm                       0\n",
       "state_talk_time_sec             148\n",
       "wo_hit_status_result_desc         0\n",
       "wo_hit_status_reason_desc         0\n",
       "employee_id                       0\n",
       "emp_age                           0\n",
       "emp_gender_cd                  2180\n",
       "emp_children_cnt              18605\n",
       "emp_work_months_cnt               0\n",
       "emp_citizenship_country_cd    12487\n",
       "emp_marital_status_cd         14825\n",
       "dtype: int64"
      ]
     },
     "execution_count": 149,
     "metadata": {},
     "output_type": "execute_result"
    }
   ],
   "source": [
    "df.isna().sum()"
   ]
  },
  {
   "cell_type": "markdown",
   "metadata": {},
   "source": [
    "В среднем 80% пропусков в данных указанных ниже. При анализе учитывать нецелесообразно. \n",
    "- bundle_nm, \n",
    "- confirmed_income,\n",
    "- predicted_income, \n",
    "- emp_children_cnt, \n",
    "- emp_citizenship_country_cd, \n",
    "- emp_marital_status_cd \n",
    "В целом, интересно, насколько хорошая база для звонков - учитывая отсутствие инфо о предполагаемом доходе у клиентов."
   ]
  },
  {
   "cell_type": "code",
   "execution_count": 150,
   "metadata": {},
   "outputs": [
    {
     "data": {
      "text/plain": [
       "(18691, 28)"
      ]
     },
     "execution_count": 150,
     "metadata": {},
     "output_type": "execute_result"
    }
   ],
   "source": [
    "df.shape"
   ]
  },
  {
   "cell_type": "markdown",
   "metadata": {},
   "source": [
    "Кол-во дубликатов"
   ]
  },
  {
   "cell_type": "code",
   "execution_count": 151,
   "metadata": {},
   "outputs": [
    {
     "data": {
      "text/plain": [
       "0"
      ]
     },
     "execution_count": 151,
     "metadata": {},
     "output_type": "execute_result"
    }
   ],
   "source": [
    "df.duplicated().sum()"
   ]
  },
  {
   "cell_type": "markdown",
   "metadata": {},
   "source": [
    "Кол-во уникалльных customer_id"
   ]
  },
  {
   "cell_type": "code",
   "execution_count": 152,
   "metadata": {},
   "outputs": [
    {
     "data": {
      "text/plain": [
       "17267"
      ]
     },
     "execution_count": 152,
     "metadata": {},
     "output_type": "execute_result"
    }
   ],
   "source": [
    "df.customer_id.nunique()"
   ]
  },
  {
   "cell_type": "markdown",
   "metadata": {},
   "source": [
    "7% клиентам звонки повторялись. Можно выяснить причину повторных звонков."
   ]
  },
  {
   "cell_type": "markdown",
   "metadata": {},
   "source": [
    "# 2. Длительность разговора"
   ]
  },
  {
   "cell_type": "markdown",
   "metadata": {},
   "source": [
    "#### Посмотрим на среднее время диалога, так как по этому показателю можно провести более глубокий анализ.   \n",
    "- Например, понять, насколько долго клиенты готовы прослушать предложение (сразу отказываются от предложения или же прослушивают дольше, значит заинтересованность в продукте может быть выше) \n",
    "- Есть ли зависимость длительности диалога от опыт работы сотрудника и как следствие результат звонка."
   ]
  },
  {
   "cell_type": "code",
   "execution_count": 153,
   "metadata": {},
   "outputs": [
    {
     "data": {
      "text/plain": [
       "count    18543.000000\n",
       "mean        86.350105\n",
       "std        127.011570\n",
       "min          0.000000\n",
       "25%         24.000000\n",
       "50%         46.000000\n",
       "75%         99.000000\n",
       "max       2671.000000\n",
       "Name: state_talk_time_sec, dtype: float64"
      ]
     },
     "execution_count": 153,
     "metadata": {},
     "output_type": "execute_result"
    }
   ],
   "source": [
    "#инфо по длительности звонков (в сек)\n",
    "df.state_talk_time_sec.describe()"
   ]
  },
  {
   "cell_type": "code",
   "execution_count": 154,
   "metadata": {},
   "outputs": [
    {
     "data": {
      "image/png": "[encoded data removed]",
      "text/plain": [
       "<Figure size 720x360 with 1 Axes>"
      ]
     },
     "metadata": {
      "needs_background": "light"
     },
     "output_type": "display_data"
    }
   ],
   "source": [
    "#визуализация\n",
    "plt.figure(figsize=(10, 5))\n",
    "sns.boxplot(x=df['state_talk_time_sec'], orient='h', color='lightblue')\n",
    "plt.title(\"Распределение длительности звонков (секунды)\")\n",
    "plt.xlabel(\"Длительность (сек)\")\n",
    "plt.xlim(0, 300)  # Ограничиваем диапазон для наглядности 5 минут\n",
    "plt.show()"
   ]
  },
  {
   "cell_type": "markdown",
   "metadata": {},
   "source": [
    "###### Создадим категории длительности звонков:  \n",
    "   - если до 24 сек - short (то есть короткие звонки),  \n",
    "   - от 25 до 100 - normal,  \n",
    "   - от 100 до 210 - long,\n",
    "   - свыше - big  (очень длительные звонки)"
   ]
  },
  {
   "cell_type": "code",
   "execution_count": 155,
   "metadata": {},
   "outputs": [
    {
     "data": {
      "text/html": [
       "<div>\n",
       "<style scoped>\n",
       "    .dataframe tbody tr th:only-of-type {\n",
       "        vertical-align: middle;\n",
       "    }\n",
       "\n",
       "    .dataframe tbody tr th {\n",
       "        vertical-align: top;\n",
       "    }\n",
       "\n",
       "    .dataframe thead th {\n",
       "        text-align: right;\n",
       "    }\n",
       "</style>\n",
       "<table border=\"1\" class=\"dataframe\">\n",
       "  <thead>\n",
       "    <tr style=\"text-align: right;\">\n",
       "      <th></th>\n",
       "      <th>category_duration_call</th>\n",
       "      <th>state_talk_time_sec</th>\n",
       "      <th>rev</th>\n",
       "    </tr>\n",
       "  </thead>\n",
       "  <tbody>\n",
       "    <tr>\n",
       "      <th>0</th>\n",
       "      <td>big</td>\n",
       "      <td>1582</td>\n",
       "      <td>8.5</td>\n",
       "    </tr>\n",
       "    <tr>\n",
       "      <th>1</th>\n",
       "      <td>long</td>\n",
       "      <td>2954</td>\n",
       "      <td>15.9</td>\n",
       "    </tr>\n",
       "    <tr>\n",
       "      <th>2</th>\n",
       "      <td>normal</td>\n",
       "      <td>9233</td>\n",
       "      <td>49.8</td>\n",
       "    </tr>\n",
       "    <tr>\n",
       "      <th>3</th>\n",
       "      <td>short</td>\n",
       "      <td>4774</td>\n",
       "      <td>25.7</td>\n",
       "    </tr>\n",
       "  </tbody>\n",
       "</table>\n",
       "</div>"
      ],
      "text/plain": [
       "  category_duration_call  state_talk_time_sec   rev\n",
       "0                    big                 1582   8.5\n",
       "1                   long                 2954  15.9\n",
       "2                 normal                 9233  49.8\n",
       "3                  short                 4774  25.7"
      ]
     },
     "execution_count": 155,
     "metadata": {},
     "output_type": "execute_result"
    }
   ],
   "source": [
    "df['category_duration_call'] = df['state_talk_time_sec'].apply(lambda x: 'short' if x <= 24 \n",
    "                                                                   else ('normal' if x <= 100\n",
    "                                                                   else ('long' if x <= 210 \n",
    "                                                                     else 'big' )))\n",
    "\n",
    "call = df.groupby('category_duration_call').state_talk_time_sec.count().reset_index()\n",
    "call['rev'] = (call.state_talk_time_sec / call.state_talk_time_sec.sum() * 100).round(1)\n",
    "call"
   ]
  },
  {
   "attachments": {},
   "cell_type": "markdown",
   "metadata": {},
   "source": [
    "**Выводы**  \n",
    "Медина распределения звонков - 46 сек.  \n",
    "Есть большие выбросы.\n",
    "\n",
    "Категории длительности звонков:\n",
    "   1. Short – короткие < 25 сек     25.7%\n",
    "   2. Normal - от 25 до 100 сек.   49.8%\n",
    "   3. Long - от 100 до 210 сек.      15.9%\n",
    "   4. Big - > 210 сек.                    8.5%\n",
    "\n",
    "**Что будет дальше?**\n",
    "\n",
    "1. Нужны описания результатов звонков. Какая доля звонков завершается успехом/неуспехом по каждой категории\n",
    "2. Анализ выбросов. Short – четверть звонков. Сбросы звонков?\n",
    " Быстрый отказ?) big - 44 минуты - это ошибка или тяжелый случай? \n"
   ]
  },
  {
   "cell_type": "markdown",
   "metadata": {},
   "source": [
    "# 3. Распределение причины звонков"
   ]
  },
  {
   "cell_type": "code",
   "execution_count": 156,
   "metadata": {},
   "outputs": [],
   "source": [
    "functional= df.groupby('functional_cd').agg(count=('customer_id', 'count')).sort_values(by='count') \n",
    "functional['per'] = (functional['count'] /functional['count'].sum() *100 ).round(2)"
   ]
  },
  {
   "cell_type": "code",
   "execution_count": 157,
   "metadata": {},
   "outputs": [
    {
     "data": {
      "image/png": "[encoded data removed]",
      "text/plain": [
       "<Figure size 720x432 with 1 Axes>"
      ]
     },
     "metadata": {
      "needs_background": "light"
     },
     "output_type": "display_data"
    }
   ],
   "source": [
    "functional['count'].plot(kind='barh', stacked=True, figsize=(10, 6), color='lightblue')\n",
    "plt.title('Распределение по причине звонка')\n",
    "plt.xlabel('Количество звонков')\n",
    "plt.ylabel('Причины')\n",
    "plt.show()"
   ]
  },
  {
   "attachments": {},
   "cell_type": "markdown",
   "metadata": {},
   "source": [
    "**Выводы**\n",
    "\n",
    "Preapprove (48%) – сотрудники находятся в разговоре с клиентом.   \n",
    "Afterfilling (13%) - сотрудник звонит, уже допилить заявку, внести инфо по анкете  \n",
    "Utilization (9%) - «непродуктивное\" состояние   \n",
    "Cold (8%) - холодная продажа   \n",
    "Upsell — (7%) продажа более дорого и тяжёлого продукта.  \n",
    "\n",
    "**Что будет дальше?**\n",
    "\n",
    "- Насколько эффективны эти звонки в топ-3. Чем завершается?  \n",
    "- Дозаполнение - как много времени уходит на такую процедуру + комментарии с описанием результата звонка.   \n",
    "- Утилизация – корректно ли указывают статус звонка, какие комментарии оставляют?  "
   ]
  },
  {
   "cell_type": "markdown",
   "metadata": {},
   "source": [
    "# 4. Результат звонков"
   ]
  },
  {
   "cell_type": "code",
   "execution_count": 162,
   "metadata": {},
   "outputs": [
    {
     "data": {
      "text/html": [
       "<div>\n",
       "<style scoped>\n",
       "    .dataframe tbody tr th:only-of-type {\n",
       "        vertical-align: middle;\n",
       "    }\n",
       "\n",
       "    .dataframe tbody tr th {\n",
       "        vertical-align: top;\n",
       "    }\n",
       "\n",
       "    .dataframe thead th {\n",
       "        text-align: right;\n",
       "    }\n",
       "</style>\n",
       "<table border=\"1\" class=\"dataframe\">\n",
       "  <thead>\n",
       "    <tr style=\"text-align: right;\">\n",
       "      <th></th>\n",
       "      <th>result</th>\n",
       "      <th>count</th>\n",
       "      <th>percentage</th>\n",
       "    </tr>\n",
       "  </thead>\n",
       "  <tbody>\n",
       "    <tr>\n",
       "      <th>0</th>\n",
       "      <td>Дозвон, Отказ</td>\n",
       "      <td>16274</td>\n",
       "      <td>87.068643</td>\n",
       "    </tr>\n",
       "    <tr>\n",
       "      <th>1</th>\n",
       "      <td>Дозвон, Успешно</td>\n",
       "      <td>2417</td>\n",
       "      <td>12.931357</td>\n",
       "    </tr>\n",
       "  </tbody>\n",
       "</table>\n",
       "</div>"
      ],
      "text/plain": [
       "            result  count  percentage\n",
       "0    Дозвон, Отказ  16274   87.068643\n",
       "1  Дозвон, Успешно   2417   12.931357"
      ]
     },
     "execution_count": 162,
     "metadata": {},
     "output_type": "execute_result"
    }
   ],
   "source": [
    "success_call = df['wo_hit_status_result_desc'].value_counts().reset_index()\n",
    "success_call.columns = ['result', 'count'] \n",
    "success_call['percentage'] = (success_call['count'] / success_call['count'].sum()) * 100\n",
    "success_call\n"
   ]
  },
  {
   "cell_type": "code",
   "execution_count": 163,
   "metadata": {},
   "outputs": [
    {
     "data": {
      "text/plain": [
       "Text(0, 0.5, 'Доля звонков (%)')"
      ]
     },
     "execution_count": 163,
     "metadata": {},
     "output_type": "execute_result"
    },
    {
     "data": {
      "image/png": "[encoded data removed]",
      "text/plain": [
       "<Figure size 720x432 with 1 Axes>"
      ]
     },
     "metadata": {
      "needs_background": "light"
     },
     "output_type": "display_data"
    }
   ],
   "source": [
    "success_call.plot(\n",
    "    x='result',          \n",
    "    y='percentage',      \n",
    "    kind='bar',          \n",
    "    figsize=(10, 6),     \n",
    "    color=['lightblue', 'grey'],  # Цвета столбцов (красный для отказа, зеленый для успеха)\n",
    "    legend=False        \n",
    ")\n",
    "\n",
    "# Добавляем подписи\n",
    "plt.title('Распределение результатов дозвона', fontsize=14)\n",
    "plt.xlabel('Результат дозвона', fontsize=12)\n",
    "plt.ylabel('Доля звонков (%)', fontsize=12)"
   ]
  },
  {
   "cell_type": "code",
   "execution_count": 164,
   "metadata": {},
   "outputs": [
    {
     "data": {
      "text/html": [
       "<div>\n",
       "<style scoped>\n",
       "    .dataframe tbody tr th:only-of-type {\n",
       "        vertical-align: middle;\n",
       "    }\n",
       "\n",
       "    .dataframe tbody tr th {\n",
       "        vertical-align: top;\n",
       "    }\n",
       "\n",
       "    .dataframe thead th {\n",
       "        text-align: right;\n",
       "    }\n",
       "</style>\n",
       "<table border=\"1\" class=\"dataframe\">\n",
       "  <thead>\n",
       "    <tr style=\"text-align: right;\">\n",
       "      <th></th>\n",
       "      <th>reason</th>\n",
       "      <th>count</th>\n",
       "      <th>percentage</th>\n",
       "    </tr>\n",
       "  </thead>\n",
       "  <tbody>\n",
       "    <tr>\n",
       "      <th>6</th>\n",
       "      <td>Не звонить</td>\n",
       "      <td>504</td>\n",
       "      <td>2.696485</td>\n",
       "    </tr>\n",
       "    <tr>\n",
       "      <th>5</th>\n",
       "      <td>Третье лицо</td>\n",
       "      <td>604</td>\n",
       "      <td>3.231502</td>\n",
       "    </tr>\n",
       "    <tr>\n",
       "      <th>4</th>\n",
       "      <td>Назначена встреча</td>\n",
       "      <td>1282</td>\n",
       "      <td>6.858916</td>\n",
       "    </tr>\n",
       "    <tr>\n",
       "      <th>3</th>\n",
       "      <td>Кредит уже не нужен</td>\n",
       "      <td>1645</td>\n",
       "      <td>8.801027</td>\n",
       "    </tr>\n",
       "    <tr>\n",
       "      <th>2</th>\n",
       "      <td>Другое</td>\n",
       "      <td>1949</td>\n",
       "      <td>10.427478</td>\n",
       "    </tr>\n",
       "    <tr>\n",
       "      <th>1</th>\n",
       "      <td>Отказ прослушать предложение</td>\n",
       "      <td>2593</td>\n",
       "      <td>13.872987</td>\n",
       "    </tr>\n",
       "    <tr>\n",
       "      <th>0</th>\n",
       "      <td>Кредитная карта не нужна</td>\n",
       "      <td>3870</td>\n",
       "      <td>20.705152</td>\n",
       "    </tr>\n",
       "  </tbody>\n",
       "</table>\n",
       "</div>"
      ],
      "text/plain": [
       "                         reason  count  percentage\n",
       "6                    Не звонить    504    2.696485\n",
       "5                   Третье лицо    604    3.231502\n",
       "4             Назначена встреча   1282    6.858916\n",
       "3           Кредит уже не нужен   1645    8.801027\n",
       "2                        Другое   1949   10.427478\n",
       "1  Отказ прослушать предложение   2593   13.872987\n",
       "0      Кредитная карта не нужна   3870   20.705152"
      ]
     },
     "execution_count": 164,
     "metadata": {},
     "output_type": "execute_result"
    }
   ],
   "source": [
    "reason_call = df['wo_hit_status_reason_desc'].value_counts().reset_index()\n",
    "reason_call.columns = ['reason', 'count']  # Переименование столбцов\n",
    "reason_call['percentage'] = (reason_call['count'] / reason_call['count'].sum()) * 100\n",
    "reason_call = reason_call.query('count > 500').sort_values(by='count')\n",
    "reason_call"
   ]
  },
  {
   "cell_type": "code",
   "execution_count": 165,
   "metadata": {},
   "outputs": [
    {
     "data": {
      "image/png": "[encoded data removed]",
      "text/plain": [
       "<Figure size 720x360 with 1 Axes>"
      ]
     },
     "metadata": {
      "needs_background": "light"
     },
     "output_type": "display_data"
    }
   ],
   "source": [
    "plt.figure(figsize=(10, 5))\n",
    "\n",
    "# Создаем список цветов: зеленый только для \"Назначена встреча\", остальные - серые\n",
    "colors = ['lightblue' if reason != 'Назначена встреча' else 'grey' for reason in reason_call['reason']]\n",
    "plt.barh(reason_call['reason'], reason_call['count'],  color=colors)\n",
    "plt.title('Топ-7 результатов звонка с комментариями')\n",
    "plt.xlabel('Количество звонков')\n",
    "plt.show()"
   ]
  },
  {
   "attachments": {},
   "cell_type": "markdown",
   "metadata": {},
   "source": [
    "**Основной вывод:**  \n",
    "1. Низкая конверсия в заполнение анкеты  \n",
    "  25% коротких звонков до 25 сек  \n",
    "2. 87% отказов. Причины:   \n",
    " Карта/кредит не нужны  \n",
    " Нежелание взаимодействовать(прерывание звонка)      \n",
    "3. Нет данных о предполагаемом доходе клиентов.  \n",
    "\n",
    "**Вопрос для размышления:**  \n",
    "Насколько текущее предложение соответствует:  \n",
    " - Финансовым возможностям целевой аудитории?  \n",
    " - Фактическому интересу к продукту?\n"
   ]
  },
  {
   "cell_type": "markdown",
   "metadata": {},
   "source": [
    "# 5. Данные о клиентах"
   ]
  },
  {
   "cell_type": "markdown",
   "metadata": {},
   "source": [
    "Возраст клиентов"
   ]
  },
  {
   "cell_type": "code",
   "execution_count": 171,
   "metadata": {},
   "outputs": [
    {
     "data": {
      "text/plain": [
       "count    18509.000000\n",
       "mean        38.033135\n",
       "std         12.405885\n",
       "min          8.000000\n",
       "25%         29.000000\n",
       "50%         37.000000\n",
       "75%         46.000000\n",
       "max         85.000000\n",
       "Name: age, dtype: float64"
      ]
     },
     "execution_count": 171,
     "metadata": {},
     "output_type": "execute_result"
    }
   ],
   "source": [
    "df1.age.describe()"
   ]
  },
  {
   "cell_type": "code",
   "execution_count": 172,
   "metadata": {
    "scrolled": true
   },
   "outputs": [
    {
     "data": {
      "image/png": "[encoded data removed]",
      "text/plain": [
       "<Figure size 720x360 with 1 Axes>"
      ]
     },
     "metadata": {
      "needs_background": "light"
     },
     "output_type": "display_data"
    }
   ],
   "source": [
    "df1 = df.copy()\n",
    "df1['age'] = (\n",
    "    df['age']\n",
    "    .str.replace(',', '.', regex=False) \n",
    "    .astype(float))\n",
    "\n",
    "plt.figure(figsize=(10, 5))\n",
    "\n",
    "sns.boxplot(x=df1['age'], orient='h', color='lightblue')\n",
    "\n",
    "plt.title(\"Распределение возраста клиентов\")\n",
    "plt.xlabel(\"Возраст клиентов (лет)\")\n",
    "plt.show()"
   ]
  },
  {
   "attachments": {},
   "cell_type": "markdown",
   "metadata": {},
   "source": [
    "**Выводы** \n",
    "\n",
    "Основной возраст клиентов от 29 до 46 лет, с медианой – 37 лет.\n",
    "Выбросы. Есть клиенты возрастом младше 18 лет и старше  70 лет.\n",
    "\n",
    "**Что будет дальше?**\n",
    "\n",
    "Выбросы по возрасту – Нужно выяснить, возможно, сбой/ошибка.  "
   ]
  },
  {
   "cell_type": "markdown",
   "metadata": {},
   "source": [
    "Пол"
   ]
  },
  {
   "cell_type": "code",
   "execution_count": 173,
   "metadata": {},
   "outputs": [],
   "source": [
    "gender = df1.groupby(['gender_cd']).agg(count=('customer_id', 'count')).sort_values(by='count') "
   ]
  },
  {
   "cell_type": "code",
   "execution_count": 174,
   "metadata": {},
   "outputs": [
    {
     "data": {
      "image/png": "[encoded data removed]",
      "text/plain": [
       "<Figure size 720x432 with 1 Axes>"
      ]
     },
     "metadata": {
      "needs_background": "light"
     },
     "output_type": "display_data"
    }
   ],
   "source": [
    "gender.plot(kind='bar', stacked=True, figsize=(10, 6))\n",
    "\n",
    "# Дополнительные настройки\n",
    "plt.title('Распределение клиентов по полу')\n",
    "plt.xlabel(' Пол')\n",
    "plt.ylabel('Количество клиентов')\n",
    "plt.show()"
   ]
  },
  {
   "cell_type": "markdown",
   "metadata": {},
   "source": [
    "**46,4% клиентов женского пола, 53,6% - мужского.**"
   ]
  },
  {
   "cell_type": "markdown",
   "metadata": {},
   "source": [
    "Регион (анализ по тем, кто указал регион (61%) из всех звонков )"
   ]
  },
  {
   "cell_type": "code",
   "execution_count": 175,
   "metadata": {},
   "outputs": [
    {
     "data": {
      "text/html": [
       "<div>\n",
       "<style scoped>\n",
       "    .dataframe tbody tr th:only-of-type {\n",
       "        vertical-align: middle;\n",
       "    }\n",
       "\n",
       "    .dataframe tbody tr th {\n",
       "        vertical-align: top;\n",
       "    }\n",
       "\n",
       "    .dataframe thead th {\n",
       "        text-align: right;\n",
       "    }\n",
       "</style>\n",
       "<table border=\"1\" class=\"dataframe\">\n",
       "  <thead>\n",
       "    <tr style=\"text-align: right;\">\n",
       "      <th></th>\n",
       "      <th>count</th>\n",
       "      <th>per</th>\n",
       "    </tr>\n",
       "    <tr>\n",
       "      <th>region_size</th>\n",
       "      <th></th>\n",
       "      <th></th>\n",
       "    </tr>\n",
       "  </thead>\n",
       "  <tbody>\n",
       "    <tr>\n",
       "      <th>rural</th>\n",
       "      <td>1128</td>\n",
       "      <td>9.893001</td>\n",
       "    </tr>\n",
       "    <tr>\n",
       "      <th>msk</th>\n",
       "      <td>1559</td>\n",
       "      <td>13.673040</td>\n",
       "    </tr>\n",
       "    <tr>\n",
       "      <th>urban</th>\n",
       "      <td>2661</td>\n",
       "      <td>23.338011</td>\n",
       "    </tr>\n",
       "    <tr>\n",
       "      <th>town</th>\n",
       "      <td>6054</td>\n",
       "      <td>53.095948</td>\n",
       "    </tr>\n",
       "  </tbody>\n",
       "</table>\n",
       "</div>"
      ],
      "text/plain": [
       "             count        per\n",
       "region_size                  \n",
       "rural         1128   9.893001\n",
       "msk           1559  13.673040\n",
       "urban         2661  23.338011\n",
       "town          6054  53.095948"
      ]
     },
     "execution_count": 175,
     "metadata": {},
     "output_type": "execute_result"
    }
   ],
   "source": [
    "region = df1.groupby('region_size').agg(count=('customer_id', 'count')).sort_values(by='count') \n",
    "region['per'] = region['count'] / region['count'].sum() *100\n",
    "region"
   ]
  },
  {
   "cell_type": "code",
   "execution_count": 176,
   "metadata": {},
   "outputs": [
    {
     "data": {
      "image/png": "[encoded data removed]",
      "text/plain": [
       "<Figure size 720x432 with 1 Axes>"
      ]
     },
     "metadata": {
      "needs_background": "light"
     },
     "output_type": "display_data"
    }
   ],
   "source": [
    "region['count'].plot(kind='barh', stacked=True, figsize=(10, 6))\n",
    "\n",
    "plt.title('Распределение клиентов по размеру населенного пункта')\n",
    "plt.xlabel('Количество клиентов')\n",
    "plt.ylabel('Размер населенного пункта')\n",
    "plt.show()"
   ]
  },
  {
   "attachments": {},
   "cell_type": "markdown",
   "metadata": {},
   "source": [
    "**Выводы**\n",
    "\n",
    "По имеющимся данным region_size (заполненным),   \n",
    "Аудитория Банка находится в городах - не миллионниках (53%),   \n",
    "23% из городов-миллионников,  \n",
    "14% из Москвы,   \n",
    "10% из сельской местности.  \n",
    "\n",
    "**Что будет дальше?**\n",
    "\n",
    "1. Результативность. Значит ли это что на предложения банка более активно соглашаются жители обычных городов.\n"
   ]
  },
  {
   "cell_type": "markdown",
   "metadata": {},
   "source": [
    "# 6. Данные о сотрудниках"
   ]
  },
  {
   "cell_type": "markdown",
   "metadata": {},
   "source": [
    "Возраст  сотрудников"
   ]
  },
  {
   "cell_type": "code",
   "execution_count": 178,
   "metadata": {},
   "outputs": [
    {
     "data": {
      "text/plain": [
       "count    18691.000000\n",
       "mean        35.617944\n",
       "std         13.480531\n",
       "min         18.000000\n",
       "25%         23.000000\n",
       "50%         33.000000\n",
       "75%         46.000000\n",
       "max         96.000000\n",
       "Name: emp_age, dtype: float64"
      ]
     },
     "execution_count": 178,
     "metadata": {},
     "output_type": "execute_result"
    }
   ],
   "source": [
    "df.emp_age.describe()"
   ]
  },
  {
   "cell_type": "code",
   "execution_count": 179,
   "metadata": {},
   "outputs": [
    {
     "data": {
      "image/png": "[encoded data removed]",
      "text/plain": [
       "<Figure size 720x360 with 1 Axes>"
      ]
     },
     "metadata": {
      "needs_background": "light"
     },
     "output_type": "display_data"
    }
   ],
   "source": [
    "plt.figure(figsize=(10, 5))\n",
    "sns.boxplot(x=df['emp_age'], orient='h', color='lightblue')\n",
    "\n",
    "plt.title(\"Распределение возраста сотрудников\")\n",
    "plt.xlabel(\"Возраст сотрудников (лет)\")\n",
    "plt.show()"
   ]
  },
  {
   "attachments": {},
   "cell_type": "markdown",
   "metadata": {},
   "source": [
    "**Выводы** \n",
    "\n",
    "Основная часть сотрудников в возрасте от 23 до 46 лет.\u000b",
    "Выбросы. Сотрудники, возрастом старше 60 лет   \n",
    "\n",
    "**Что будет дальше?**\n",
    "\n",
    "- Выбросы по возрасту – Нужно выяснить, возможно, сбой/ошибка.  > 65 лет, и даже 96 лет.  \n",
    "- Связан ли опыт и возраст? Сотрудник старше 50 лет начал работать в продажах и опыт меньше года?  \n"
   ]
  },
  {
   "cell_type": "markdown",
   "metadata": {},
   "source": [
    "### Кол-во месяцев, которые работает сотрудник\n"
   ]
  },
  {
   "cell_type": "code",
   "execution_count": 180,
   "metadata": {},
   "outputs": [
    {
     "data": {
      "text/plain": [
       "count    18691.000000\n",
       "mean         5.401263\n",
       "std          3.483958\n",
       "min          0.000000\n",
       "25%          2.000000\n",
       "50%          6.000000\n",
       "75%          8.000000\n",
       "max         11.000000\n",
       "Name: emp_work_months_cnt, dtype: float64"
      ]
     },
     "execution_count": 180,
     "metadata": {},
     "output_type": "execute_result"
    }
   ],
   "source": [
    "df.emp_work_months_cnt.describe()"
   ]
  },
  {
   "cell_type": "code",
   "execution_count": 181,
   "metadata": {},
   "outputs": [
    {
     "data": {
      "image/png": "[encoded data removed]",
      "text/plain": [
       "<Figure size 720x360 with 1 Axes>"
      ]
     },
     "metadata": {
      "needs_background": "light"
     },
     "output_type": "display_data"
    }
   ],
   "source": [
    "plt.figure(figsize=(10, 5))\n",
    "sns.boxplot(x=df['emp_work_months_cnt'], orient='h', color='lightblue')\n",
    "\n",
    "\n",
    "plt.title(\"Распределение опыта сотрудников\")\n",
    "plt.xlabel(\"Опыт работы (мес)\")\n",
    "plt.show()"
   ]
  },
  {
   "attachments": {},
   "cell_type": "markdown",
   "metadata": {},
   "source": [
    "**Выводы**\n",
    "\n",
    "Основная масса сотрудников, работает от 2 до 8 месяцев.  \n",
    "Медиана - 6 мес. Максимум 11 мес.  \n",
    "  \n",
    "**Что будет дальше?**  \n",
    "\n",
    "- В данных нет сотрудников, работающих от 1 года или же от 3 лет.  Поэтому будем считать за новичков и стажеров сотрудников, с опытом до 5 месяцев (на испытательном сроке).   \n",
    "- Зависимость опыта от длительности диалога и результата звонка  \n",
    "- Новички больше ставят статус звонка – утилизация и дозаполнение?  \n"
   ]
  },
  {
   "cell_type": "markdown",
   "metadata": {},
   "source": [
    "##### ИТОГО: что делаем дальше\n",
    "   \n",
    "   1. Выбросы по длительности звонков (short/big)  Сбросы? Быстрый отказ? Oшибка или тяжелый случай?\n",
    "   2. Выбросы по возрастам как среди сотрудников, так и среди клиентов.\n",
    "   3. Дозаполнение заявки и утилизация. Почему они в топе: ошибка сотрудников/ системы? Новички больше ставят статус звонка – утилизация и дозаполнение? Предодобы - насколько эфективны (успех/неуспех). Нужны описания результатов звонков.\n",
    "   4. Регионы. На предложения банка более активно соглашаются жители обычных городов - не миллионники (53%) из тех, у кого были указаны регионы.\n",
    "   5. Опыт сотрудников. все до 1 года. Связан ли опыт и возраст? Сотрудник старше 50 лет начал работать в продажах и опыт меньше года? Более опытный сотрудник больше времени в диалоге(убеждает например)? Более опытный сотрудник больше успешных звонков? \n",
    "\n"
   ]
  },
  {
   "cell_type": "markdown",
   "metadata": {},
   "source": [
    "# гипотезы"
   ]
  },
  {
   "cell_type": "markdown",
   "metadata": {},
   "source": [
    "**Гипотеза 1.** Если в скрипт продаж для Preapprove  добавим часть из скрипта для Upsell, то уменьшим долю коротких звонков и конверсия в заполнение заявки увеличится.  \n",
    "т.к. Preapprove-звонки теряют 33% клиентов в первые  25 секунд — нужно адаптировать скрипты из Upsell, где short-звонков всего 9%"
   ]
  },
  {
   "cell_type": "code",
   "execution_count": 182,
   "metadata": {},
   "outputs": [
    {
     "data": {
      "image/png": "[encoded data removed]",
      "text/plain": [
       "<Figure size 720x432 with 1 Axes>"
      ]
     },
     "metadata": {
      "needs_background": "light"
     },
     "output_type": "display_data"
    }
   ],
   "source": [
    "result = df.query('functional_cd == \"Preapprove\" or functional_cd == \"Afterfilling\" or functional_cd == \"Utilization\" or functional_cd == \"Upsell\"') \\\n",
    "    .groupby(['functional_cd', 'category_duration_call']) \\\n",
    "    .agg(calls_count=('customer_id', 'count')) \\\n",
    "    .sort_values('calls_count', ascending=False) \\\n",
    "    .reset_index()\n",
    "result['sum'] = result.groupby('functional_cd').calls_count.transform('sum')\n",
    "result['per'] = ((result['calls_count']  /  result['sum']) * 100).round(0)\n",
    "\n",
    "plt.figure(figsize=(10, 6))\n",
    "sns.barplot(\n",
    "    data=result.reset_index(),\n",
    "    x='calls_count',\n",
    "    y='functional_cd',\n",
    "    hue='category_duration_call',\n",
    "    orient='h'\n",
    ")\n",
    "plt.title(' Топ-3 распределение причин звонков в разрезе категорий длительности ')\n",
    "plt.show()"
   ]
  },
  {
   "cell_type": "code",
   "execution_count": 183,
   "metadata": {},
   "outputs": [
    {
     "data": {
      "text/html": [
       "<div>\n",
       "<style scoped>\n",
       "    .dataframe tbody tr th:only-of-type {\n",
       "        vertical-align: middle;\n",
       "    }\n",
       "\n",
       "    .dataframe tbody tr th {\n",
       "        vertical-align: top;\n",
       "    }\n",
       "\n",
       "    .dataframe thead th {\n",
       "        text-align: right;\n",
       "    }\n",
       "</style>\n",
       "<table border=\"1\" class=\"dataframe\">\n",
       "  <thead>\n",
       "    <tr style=\"text-align: right;\">\n",
       "      <th></th>\n",
       "      <th>wo_hit_status_reason_desc</th>\n",
       "      <th>calls_count</th>\n",
       "    </tr>\n",
       "  </thead>\n",
       "  <tbody>\n",
       "    <tr>\n",
       "      <th>0</th>\n",
       "      <td>Отказ прослушать предложение</td>\n",
       "      <td>1349</td>\n",
       "    </tr>\n",
       "    <tr>\n",
       "      <th>1</th>\n",
       "      <td>Кредитная карта не нужна</td>\n",
       "      <td>729</td>\n",
       "    </tr>\n",
       "    <tr>\n",
       "      <th>2</th>\n",
       "      <td>Третье лицо</td>\n",
       "      <td>340</td>\n",
       "    </tr>\n",
       "    <tr>\n",
       "      <th>3</th>\n",
       "      <td>Не звонить</td>\n",
       "      <td>194</td>\n",
       "    </tr>\n",
       "    <tr>\n",
       "      <th>4</th>\n",
       "      <td>Кредит уже не нужен</td>\n",
       "      <td>163</td>\n",
       "    </tr>\n",
       "  </tbody>\n",
       "</table>\n",
       "</div>"
      ],
      "text/plain": [
       "      wo_hit_status_reason_desc  calls_count\n",
       "0  Отказ прослушать предложение         1349\n",
       "1      Кредитная карта не нужна          729\n",
       "2                   Третье лицо          340\n",
       "3                    Не звонить          194\n",
       "4           Кредит уже не нужен          163"
      ]
     },
     "execution_count": 183,
     "metadata": {},
     "output_type": "execute_result"
    }
   ],
   "source": [
    "#результат short звонков по Preapprove\n",
    "df.query('functional_cd == \"Preapprove\" and category_duration_call == \"short\"') \\\n",
    "  .groupby(['wo_hit_status_reason_desc']) \\\n",
    "  .agg(calls_count=('customer_id', 'count')).sort_values('calls_count', ascending=False).reset_index().head(5)\n",
    "\n",
    "#все короткие звонки завершаются отказом"
   ]
  },
  {
   "cell_type": "markdown",
   "metadata": {},
   "source": [
    "**Гипотеза 2**. Если изменим в анкете форму или кол-во пунктов, которые заполняют клиенты или добавим более подробную информацию о продукте, то сократим время сотрудников на дозаполнение заявки (Afterfilling) и увеличим долю звонков на более продуктивные."
   ]
  },
  {
   "cell_type": "markdown",
   "metadata": {},
   "source": [
    "В статусе Afterfilling - дозаполнение заявки логичнее, что должны быть"
   ]
  },
  {
   "cell_type": "code",
   "execution_count": 184,
   "metadata": {},
   "outputs": [
    {
     "data": {
      "text/plain": [
       "Дозвон, Отказ      1994\n",
       "Дозвон, Успешно     358\n",
       "Name: wo_hit_status_result_desc, dtype: int64"
      ]
     },
     "execution_count": 184,
     "metadata": {},
     "output_type": "execute_result"
    }
   ],
   "source": [
    "df.query('functional_cd == \"Afterfilling\"')['wo_hit_status_result_desc'].value_counts()"
   ]
  },
  {
   "cell_type": "code",
   "execution_count": 185,
   "metadata": {},
   "outputs": [
    {
     "data": {
      "text/plain": [
       "Другое                          386\n",
       "Отказ прослушать предложение    309\n",
       "Нет потребности в кредите       247\n",
       "Назначена встреча               193\n",
       "Устраивает свой оператор        126\n",
       "Name: wo_hit_status_reason_desc, dtype: int64"
      ]
     },
     "execution_count": 185,
     "metadata": {},
     "output_type": "execute_result"
    }
   ],
   "source": [
    "df.query('functional_cd == \"Afterfilling\"')['wo_hit_status_reason_desc'].value_counts().head(5)"
   ]
  },
  {
   "cell_type": "markdown",
   "metadata": {},
   "source": [
    "**Гипотеза 3**  \n",
    "\n",
    "Если обучим сотрудников, с опытом работы до 5 месяцев, правильно проставлять статусы в системе, то увеличится доля продуктивных звонков\n",
    "\n",
    "\n",
    "Большинство новичков и стажеров (64%) ставят статус Utilization. из-за неопытности. Также в комментариях ставят одни и те же статусы по-разному ('отказ от диалога' или 'Отказ от диалога' или 'Отказ прослушать предложение')"
   ]
  },
  {
   "cell_type": "markdown",
   "metadata": {},
   "source": [
    "добавим в df категорию по опыту работы"
   ]
  },
  {
   "cell_type": "code",
   "execution_count": 186,
   "metadata": {},
   "outputs": [],
   "source": [
    "df['time_job'] = df['emp_work_months_cnt'].apply(lambda x: 'новичок' if x <= 2 \n",
    "                                                                   else ('стажеры' if x <= 5\n",
    "                                                                   else ('спецы' if x <= 8\n",
    "                                                                         else 'опытные' )))\n",
    "\n",
    "job = df.groupby('time_job').emp_work_months_cnt.count().reset_index()\n",
    "job['rev'] = (job.emp_work_months_cnt / job.emp_work_months_cnt.sum() * 100).round(1)\n"
   ]
  },
  {
   "cell_type": "code",
   "execution_count": 187,
   "metadata": {},
   "outputs": [
    {
     "data": {
      "text/plain": [
       "новичок    556\n",
       "спецы      542\n",
       "стажеры    345\n",
       "опытные    274\n",
       "Name: time_job, dtype: int64"
      ]
     },
     "execution_count": 187,
     "metadata": {},
     "output_type": "execute_result"
    }
   ],
   "source": [
    "df.query('functional_cd == \"Utilization\"')['time_job'].value_counts().head(5)"
   ]
  }
 ],
 "metadata": {
  "kernelspec": {
   "display_name": "Python 3",
   "language": "python",
   "name": "python3"
  },
  "language_info": {
   "codemirror_mode": {
    "name": "ipython",
    "version": 3
   },
   "file_extension": ".py",
   "mimetype": "text/x-python",
   "name": "python",
   "nbconvert_exporter": "python",
   "pygments_lexer": "ipython3",
   "version": "3.7.3"
  }
 },
 "nbformat": 4,
 "nbformat_minor": 4
}
